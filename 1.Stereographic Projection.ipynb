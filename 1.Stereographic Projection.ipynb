{
 "cells": [
  {
   "cell_type": "code",
   "execution_count": 9,
   "id": "852dec1c",
   "metadata": {},
   "outputs": [],
   "source": [
    "import sys\n",
    "import numpy as np\n",
    "import cv2\n",
    "from math import pi, atan, cos, sin, acos, sqrt, tan\n",
    "from scipy.interpolate import RectBivariateSpline"
   ]
  },
  {
   "cell_type": "code",
   "execution_count": 10,
   "id": "781c0b71",
   "metadata": {},
   "outputs": [],
   "source": [
    "def projection_angle(x, d): \n",
    "     x_max = (1 + d) / d \n",
    "     numerator = -2 * d * x ** 2 + 2 * (d + 1) * sqrt((1 - d ** 2) * x ** 2 + (d + 1) ** 2)\n",
    "     denominator = 2 * (x ** 2 + (d + 1) ** 2)\n",
    "\n",
    "     if 0 < x < x_max:\n",
    "        project_angle = acos(numerator / denominator)\n",
    "     elif x < 0:\n",
    "        project_angle = - acos(numerator / denominator)\n",
    "     elif x == x_max:\n",
    "        project_angle = pi/2.\n",
    "     else:\n",
    "        raise Exception('invalid input args')\n",
    "\n",
    "     return project_angle"
   ]
  },
  {
   "cell_type": "code",
   "execution_count": 11,
   "id": "a0012e9c",
   "metadata": {},
   "outputs": [],
   "source": [
    "def panotostereo(panorama, distance):\n",
    "\n",
    "    frames = []\n",
    "    input_img = panorama\n",
    "    height, width, _ = input_img.shape\n",
    "    d = distance\n",
    "    xp_max = (1 + d) / d  \n",
    "    yp_max = (1 + d) / d  \n",
    "    xp_domain = xp_max * (np.arange(-1., 1., 2. / height) + 1.0 / height)\n",
    "    yp_domain = yp_max * (np.arange(-1., 1., 2. / height) + 1.0 / height)\n",
    "    \"\"\"Get the radian values of each pixel in the image with delta_rad\"\"\"\n",
    "    delta_rad = 2 * pi / width  \n",
    "    \n",
    "    for face in range(4):\n",
    "        print('generating stereo image', face)\n",
    "        output_img = np.zeros((height, height, 3))\n",
    "        \n",
    "        \"\"\"Use scipy's interpolation function\"\"\"\n",
    "        interpolate_0 = RectBivariateSpline(np.arange(height), np.arange(width), input_img[:, :, 0])\n",
    "        interpolate_1 = RectBivariateSpline(np.arange(height), np.arange(width), input_img[:, :, 1])\n",
    "        interpolate_2 = RectBivariateSpline(np.arange(height), np.arange(width), input_img[:, :, 2])\n",
    "        pano_x = np.zeros((height, 1))\n",
    "        pano_y = np.zeros((height, 1))\n",
    "\n",
    "        for j, xp in enumerate(xp_domain):\n",
    "            phi = projection_angle(xp, d)\n",
    "            pano_x[j] = (width / 2.0 + (phi / delta_rad))\n",
    "\n",
    "        for i, yp in enumerate(yp_domain):\n",
    "            theta = projection_angle(yp, d)\n",
    "            pano_y[i] = height/2.0 + (theta/delta_rad)\n",
    "\n",
    "        output_img[:, :, 0] = interpolate_0(pano_y, pano_x)\n",
    "        output_img[:, :, 1] = interpolate_1(pano_y, pano_x)\n",
    "        output_img[:, :, 2] = interpolate_2(pano_y, pano_x)\n",
    "\n",
    "        cv2.imwrite('split_'+str(face)+'_'+str(d)+'.jpg', output_img)\n",
    "        frames.append(output_img)\n",
    "        input_img = np.concatenate(\n",
    "            (input_img[:, int(width/4):, :], input_img[:, :int(width/4), :]), axis=1)\n",
    "    return frames"
   ]
  },
  {
   "cell_type": "code",
   "execution_count": 35,
   "id": "a15126e5",
   "metadata": {},
   "outputs": [
    {
     "name": "stdout",
     "output_type": "stream",
     "text": [
      "generating stereo image 0\n",
      "generating stereo image 1\n",
      "generating stereo image 2\n",
      "generating stereo image 3\n"
     ]
    }
   ],
   "source": [
    "im = cv2.imread('input/7frLY.jpg')  \n",
    "projection = panotostereo(im, 2) \n"
   ]
  },
  {
   "cell_type": "code",
   "execution_count": null,
   "id": "97ecf50b",
   "metadata": {},
   "outputs": [],
   "source": []
  }
 ],
 "metadata": {
  "kernelspec": {
   "display_name": "Python 3",
   "language": "python",
   "name": "python3"
  },
  "language_info": {
   "codemirror_mode": {
    "name": "ipython",
    "version": 3
   },
   "file_extension": ".py",
   "mimetype": "text/x-python",
   "name": "python",
   "nbconvert_exporter": "python",
   "pygments_lexer": "ipython3",
   "version": "3.6.13"
  }
 },
 "nbformat": 4,
 "nbformat_minor": 5
}
