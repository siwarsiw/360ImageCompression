{
 "cells": [
  {
   "cell_type": "code",
   "execution_count": 1,
   "id": "1569b38a",
   "metadata": {},
   "outputs": [],
   "source": [
    "import numpy as np\n",
    "import numpy as numpy\n",
    "import cv2\n",
    "def calculatevar(image):\n",
    "    windowsize_r = 8\n",
    "    windowsize_c = 8\n",
    "    Sum = 0\n",
    "    Sum1 = 0\n",
    "    Sum4 = 0\n",
    "    mlist1 = []\n",
    "    mlist2 = []\n",
    "    mlist3 = []\n",
    "\n",
    "    img = cv2.imread(image)\n",
    "    gray = cv2.cvtColor(img, cv2.COLOR_BGR2GRAY)\n",
    "    H, W = gray.shape\n",
    "    N = int (H*W/8*8)\n",
    "    for r in range(0,gray.shape[0] - windowsize_r, windowsize_r):\n",
    "        for c in range(0,gray.shape[0] - windowsize_c, windowsize_c):\n",
    "            window = gray[r:r+windowsize_r,c:c+windowsize_c]\n",
    "            hist = numpy.histogram(window,bins=256)\n",
    "            Sum1 += gray[r][c]\n",
    "            for i in range(window.shape[0]):\n",
    "                for j in range(window.shape[1]):\n",
    "                    Sum += window[i][j]\n",
    "                    #mlist3.append(Sum)\n",
    "                    Li = Sum/Sum1\n",
    "                    Ti = int(K*Li*N)\n",
    "                    #mlist2.append(Ti)\n",
    "                    if(Ti<24):\n",
    "                        mlist3.append(Sum)\n",
    "                        Sum4 = sum(mlist3)\n",
    "\n",
    "                    #print(Ti)\n",
    "    return Sum4"
   ]
  },
  {
   "cell_type": "code",
   "execution_count": null,
   "id": "62fc3b1b",
   "metadata": {},
   "outputs": [],
   "source": [
    "import matplotlib.pyplot as plt\n",
    "import cv2\n",
    "\n",
    "img = cv2.imread('7fB65.jpg')\n",
    "gray = cv2.cvtColor(img, cv2.COLOR_BGR2GRAY)\n",
    "cv2.imshow('Original image',img)\n",
    "cv2.imshow('Gray image', gray)\n",
    "cv2.waitKey(0)\n",
    "cv2.destroyAllWindows()\n"
   ]
  },
  {
   "cell_type": "code",
   "execution_count": null,
   "id": "53048db9",
   "metadata": {},
   "outputs": [],
   "source": [
    "def CompressionBitAllocation(mlist1,mlist2,mlist3,Sum4):\n",
    "    mlist = []\n",
    "    for i in mlist2:\n",
    "        if (i>24):\n",
    "            i = 24\n",
    "            E = i -24 \n",
    "        else:\n",
    "            mlist.append(i)\n",
    "            \n",
    "    for j in mlist:\n",
    "        for p in mlist3:\n",
    "            #Li = Sum / Sum1\n",
    "            Li = p / Sum4\n",
    "        j = j + E\n",
    "    return j"
   ]
  }
 ],
 "metadata": {
  "kernelspec": {
   "display_name": "Python 3",
   "language": "python",
   "name": "python3"
  },
  "language_info": {
   "codemirror_mode": {
    "name": "ipython",
    "version": 3
   },
   "file_extension": ".py",
   "mimetype": "text/x-python",
   "name": "python",
   "nbconvert_exporter": "python",
   "pygments_lexer": "ipython3",
   "version": "3.6.13"
  }
 },
 "nbformat": 4,
 "nbformat_minor": 5
}
